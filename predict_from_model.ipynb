{
 "cells": [
  {
   "cell_type": "code",
   "execution_count": 2,
   "id": "75916042-1d26-4ddb-a963-b3413cd475fe",
   "metadata": {},
   "outputs": [
    {
     "name": "stdout",
     "output_type": "stream",
     "text": [
      "✅ Prediction for sample row: No Churn\n"
     ]
    }
   ],
   "source": [
    "from joblib import load\n",
    "import pandas as pd\n",
    "\n",
    "# Load the saved model\n",
    "model = load('../models/telco_churn_pipeline.joblib')\n",
    "\n",
    "# Load the dataset to use a sample row\n",
    "df = pd.read_csv(\"../data/Telco-Customer-Churn.csv\").dropna()\n",
    "\n",
    "# Add dummy customerID if not present\n",
    "if 'customerID' not in df.columns:\n",
    "    df['customerID'] = 'dummy_id'\n",
    "\n",
    "# Drop the target column (if still there)\n",
    "if 'Churn' in df.columns:\n",
    "    df = df.drop('Churn', axis=1)\n",
    "\n",
    "# Take one sample row\n",
    "sample_row = df.iloc[[0]]\n",
    "\n",
    "# Predict\n",
    "prediction = model.predict(sample_row)[0]\n",
    "label = \"Churn\" if prediction == 1 else \"No Churn\"\n",
    "\n",
    "print(\"✅ Prediction for sample row:\", label)\n"
   ]
  },
  {
   "cell_type": "code",
   "execution_count": null,
   "id": "7cd6de82-93a6-455b-8b4f-3c2f1807508f",
   "metadata": {},
   "outputs": [],
   "source": []
  }
 ],
 "metadata": {
  "kernelspec": {
   "display_name": "Python 3 (ipykernel)",
   "language": "python",
   "name": "python3"
  },
  "language_info": {
   "codemirror_mode": {
    "name": "ipython",
    "version": 3
   },
   "file_extension": ".py",
   "mimetype": "text/x-python",
   "name": "python",
   "nbconvert_exporter": "python",
   "pygments_lexer": "ipython3",
   "version": "3.12.7"
  }
 },
 "nbformat": 4,
 "nbformat_minor": 5
}
